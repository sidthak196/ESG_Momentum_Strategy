{
 "cells": [
  {
   "cell_type": "code",
   "execution_count": 2,
   "metadata": {},
   "outputs": [],
   "source": [
    "import pandas as pd\n",
    "import yfinance as yf\n",
    "import datetime as dt\n",
    "import numpy as np\n",
    "import itertools\n",
    "import statsmodels.api as sm\n",
    "import matplotlib.pyplot as plt\n",
    "import scipy.stats as sc\n",
    "import pandas_datareader.data as pdr"
   ]
  },
  {
   "cell_type": "markdown",
   "metadata": {},
   "source": [
    "## Read ESG Data and Create Portfolios"
   ]
  },
  {
   "cell_type": "code",
   "execution_count": 3,
   "metadata": {},
   "outputs": [],
   "source": [
    "esg_data= pd.read_csv(\"H:/My Drive/Projects/ESG_Momentum_Strategy/Data/ESG_Data_Yearly.csv\")\n",
    "# esg_data.sort_values(by=['ESG Disc Score','Mkt Cap'],ascending=False,inplace=True)\n",
    "year_group=esg_data.groupby(by='YEAR')"
   ]
  },
  {
   "cell_type": "code",
   "execution_count": 4,
   "metadata": {},
   "outputs": [
    {
     "name": "stderr",
     "output_type": "stream",
     "text": [
      "C:\\Users\\siddh\\AppData\\Local\\Packages\\PythonSoftwareFoundation.Python.3.9_qbz5n2kfra8p0\\LocalCache\\local-packages\\Python39\\site-packages\\pandas\\util\\_decorators.py:311: SettingWithCopyWarning: \n",
      "A value is trying to be set on a copy of a slice from a DataFrame\n",
      "\n",
      "See the caveats in the documentation: https://pandas.pydata.org/pandas-docs/stable/user_guide/indexing.html#returning-a-view-versus-a-copy\n",
      "  return func(*args, **kwargs)\n"
     ]
    }
   ],
   "source": [
    "#Portfolio Creation using ESG\n",
    "port_size = 50\n",
    "port_stks_high_esg = pd.DataFrame()\n",
    "port_stks_low_esg = pd.DataFrame()\n",
    "for i in range(2010,2021):\n",
    "    temp = year_group.get_group(i)\n",
    "    temp.sort_values(by='ESG_DISC_SCORE',ascending=True,inplace=True)\n",
    "    temp_len = len(temp)\n",
    "    port_stks_high_esg[i] = [s for s in temp['ID'][temp_len-port_size:]]\n",
    "    port_stks_low_esg[i] = [s for s in temp['ID'][:port_size]]\n",
    "\n"
   ]
  },
  {
   "cell_type": "code",
   "execution_count": 15,
   "metadata": {},
   "outputs": [],
   "source": [
    "# stocks we need the data for from the master STOCK_PRICE file. \n",
    "stks_needed_1 = [item for t in port_stks_high_esg.values.tolist() for item in t]\n",
    "stks_needed_2 = [item for t in port_stks_low_esg.values.tolist() for item in t]\n",
    "stks_needed = set(stks_needed_1).union(set(stks_needed_2))\n",
    "stks_needed = list(stks_needed)\n",
    "stks_needed = [i.replace(\" US Equity\",\"\") for i in stks_needed]\n",
    "# stks_needed\n",
    "# pd.DataFrame(list(stks_needed)).to_csv(\"Stocks_needed.csv\")"
   ]
  },
  {
   "cell_type": "markdown",
   "metadata": {},
   "source": [
    "## Create Stock Price Data (Not needed to run each time)"
   ]
  },
  {
   "cell_type": "code",
   "execution_count": 50,
   "metadata": {},
   "outputs": [],
   "source": [
    "##Remove tickers for which there is no data avaialble \n",
    "stks_needed.remove('JCS')\n",
    "port_stks_high_esg.replace(\"JCS US Equity\",np.nan)\n",
    "port_stks_high_esg.fillna(method='ffill',inplace=True)\n",
    "port_stks_low_esg.replace(\"JCS US Equity\",np.nan)\n",
    "port_stks_low_esg.fillna(method='ffill',inplace=True)"
   ]
  },
  {
   "cell_type": "code",
   "execution_count": null,
   "metadata": {},
   "outputs": [],
   "source": [
    "\n",
    "#Create the stock price database \n",
    "st_date = dt.datetime(2010,1,1)\n",
    "en_date = dt.datetime(2020,12,31)\n",
    "Stk_prices_list = []\n",
    "flag = 0\n",
    "tc_list = []\n",
    "\n",
    "for tc in list(stks_needed):\n",
    "    if flag ==0 : \n",
    "        flag =1 \n",
    "        Stk_prices_list.append(pdr.DataReader(tc, 'yahoo', start=st_date, end=en_date)['Adj Close'].index)\n",
    "        tc_list.append('Date')\n",
    "    Stk_prices_list.append(pdr.DataReader(tc, 'yahoo', start=st_date, end=en_date)['Adj Close'].tolist())\n",
    "    tc_list.append(tc)\n",
    "\n",
    "Stk_prices_list=list(map(list, itertools.zip_longest(*Stk_prices_list, fillvalue=None)))\n",
    "Stock_prices = pd.DataFrame(Stk_prices_list,columns=tc_list)\n",
    "# Stock_prices.set_index('Date',inplace=True)\n",
    "\n",
    "#Create Database of stock prices\n",
    "# Stock_prices.to_csv(\"STOCK_PRICE_CLOSE.csv\")        "
   ]
  },
  {
   "cell_type": "markdown",
   "metadata": {},
   "source": [
    "## Read Stock Prices from file"
   ]
  },
  {
   "cell_type": "code",
   "execution_count": 5,
   "metadata": {},
   "outputs": [],
   "source": [
    "#read from Stock prices database\n",
    "Stock_prices = pd.read_csv(\"H:/My Drive/Projects/ESG_Momentum_Strategy/STOCK_PRICE_CLOSE.csv\",index_col='Date')\n",
    "# Stock_prices.drop('Unnamed: 0',axis= 1,inplace=True)\n",
    "Stock_prices.fillna(method='ffill',inplace=True)\n",
    "Stock_prices.index = pd.to_datetime(Stock_prices.index)\n",
    "Stock_returns = Stock_prices.pct_change()\n"
   ]
  },
  {
   "cell_type": "markdown",
   "metadata": {},
   "source": [
    "## Create Momentum Portfolios"
   ]
  },
  {
   "cell_type": "code",
   "execution_count": 6,
   "metadata": {},
   "outputs": [],
   "source": [
    "Mom_HESG_Buy_portfolio = []\n",
    "Mom_HESG_Sell_portfolio = []\n",
    "Mom_LESG_Buy_portfolio = []\n",
    "Mom_LESG_Sell_portfolio = []\n",
    "\n",
    "Mom_Port_length = 10\n",
    "\n",
    "#Create Date Ranges of observation periods \n",
    "# Assume first observation period starts from 04-01-2010\n",
    "Observation_start_date = dt.datetime(2010,4,1)\n",
    "Obs_per_st_dates = [Observation_start_date + pd.DateOffset(months=3*i) for i in range(45)]\n",
    "Dates = Stock_returns.index\n",
    "Obs_per_date_ranges = []\n",
    "\n",
    "Dates = Dates[Dates>=Observation_start_date]\n",
    "for per_st in Obs_per_st_dates[1:]:\n",
    "    Obs_per_date_ranges.append(Dates[Dates<=per_st].tolist())\n",
    "    Dates = Dates[Dates>per_st]\n",
    "\n",
    "toggle = 0\n",
    "for port in [port_stks_high_esg,port_stks_low_esg]:\n",
    "    for rng in Obs_per_date_ranges:\n",
    "        year = rng[0].year\n",
    "        if rng[0].month<3 and year > 2010:\n",
    "            year = year -1 \n",
    "        tc_dict={}\n",
    "        for tc in port[year]:\n",
    "            c = tc.replace(' US Equity','')\n",
    "            ret = Stock_returns[c][rng]\n",
    "            ret = [1+i for i in ret]\n",
    "            tc_dict[c] = np.prod(ret)\n",
    "        #get the 10 highest/lowest return tciekrs and add to buy/sell portfolio    \n",
    "        temp_list = sorted(tc_dict , key = tc_dict.get,reverse=True)\n",
    "        if toggle == 0:\n",
    "            Mom_HESG_Buy_portfolio.append(temp_list[:Mom_Port_length])\n",
    "            Mom_HESG_Sell_portfolio.append(temp_list[-Mom_Port_length:])\n",
    "        else:\n",
    "            Mom_LESG_Buy_portfolio.append(temp_list[:Mom_Port_length])\n",
    "            Mom_LESG_Sell_portfolio.append(temp_list[-Mom_Port_length:])\n",
    "    toggle = 1\n"
   ]
  },
  {
   "cell_type": "code",
   "execution_count": 59,
   "metadata": {},
   "outputs": [],
   "source": [
    "#Calculate daily returns for the momentum strategy portfolios \n",
    "\n",
    "Scalar = 1/(2*Mom_Port_length)\n",
    "Mom_HESG_Returns = []\n",
    "Mom_LESG_Returns = []\n",
    "Dates_index  = [i for j in Obs_per_date_ranges for i in j]\n",
    "\n",
    "#HIGH ESG PORTFOLIO\n",
    "for i in range(1,len(Obs_per_date_ranges)):\n",
    "    temp = [0]*len(Obs_per_date_ranges[i])\n",
    "    for tc in range(Mom_Port_length):\n",
    "        for k in range(len(Obs_per_date_ranges[i])):\n",
    "            # print(Stock_returns[Mom_HESG_Buy_portfolio[i][tc]][Obs_per_date_ranges[i][k]], i, k , tc)\n",
    "            temp_high_rets= Stock_returns[Mom_HESG_Buy_portfolio[i-1][tc]][Obs_per_date_ranges[i][k]]\n",
    "            temp_low_rets= Stock_returns[Mom_HESG_Sell_portfolio[i-1][tc]][Obs_per_date_ranges[i][k]]\n",
    "            temp[k] = temp[k] + ((temp_low_rets-temp_high_rets)*Scalar)\n",
    "    Mom_HESG_Returns.append(temp)\n",
    "Mom_HESG_Returns = [Mom_HESG_Returns[i][j] for i in range(len(Mom_HESG_Returns)) for j in range(len(Mom_HESG_Returns[i]))]\n",
    "\n",
    "\n",
    "#LoW ESG PORTFOLIO\n",
    "for i in range(1,len(Obs_per_date_ranges)):\n",
    "    temp = [0]*len(Obs_per_date_ranges[i])\n",
    "    for tc in range(Mom_Port_length):\n",
    "        for k in range(len(Obs_per_date_ranges[i])):\n",
    "            # print(Stock_returns[Mom_HESG_Buy_portfolio[i][tc]][Obs_per_date_ranges[i][k]], i, k , tc)\n",
    "            temp_high_rets= Stock_returns[Mom_LESG_Buy_portfolio[i-1][tc]][Obs_per_date_ranges[i][k]]\n",
    "            temp_low_rets= Stock_returns[Mom_LESG_Sell_portfolio[i-1][tc]][Obs_per_date_ranges[i][k]]\n",
    "            temp[k] = temp[k] + ((temp_low_rets-temp_high_rets)*Scalar)\n",
    "    Mom_LESG_Returns.append(temp)\n",
    "Mom_LESG_Returns = [Mom_LESG_Returns[i][j] for i in range(len(Mom_LESG_Returns)) for j in range(len(Mom_LESG_Returns[i]))]\n",
    "\n",
    "Mom_Returns = pd.DataFrame(list(zip(Mom_HESG_Returns,Mom_LESG_Returns)),columns=['HIGHESG','LOWESG'],index=Dates_index)"
   ]
  },
  {
   "cell_type": "code",
   "execution_count": 65,
   "metadata": {},
   "outputs": [
    {
     "data": {
      "text/plain": [
       "[<matplotlib.lines.Line2D at 0x260f2ec5520>]"
      ]
     },
     "execution_count": 65,
     "metadata": {},
     "output_type": "execute_result"
    },
    {
     "data": {
      "image/png": "[encoded data removed]",
      "text/plain": [
       "<Figure size 432x288 with 1 Axes>"
      ]
     },
     "metadata": {
      "needs_background": "light"
     },
     "output_type": "display_data"
    }
   ],
   "source": [
    "t = [1+i for i in Mom_HESG_Returns]\n",
    "t = np.cumprod(t)\n",
    "plt.plot(t)\n",
    "\n",
    "s = [1+i for i in Mom_HESG_Returns]\n",
    "s = np.cumprod(t)\n",
    "plt.plot(t)"
   ]
  },
  {
   "cell_type": "markdown",
   "metadata": {},
   "source": [
    "## Calculate Portfolio Returns "
   ]
  },
  {
   "cell_type": "code",
   "execution_count": 10,
   "metadata": {},
   "outputs": [],
   "source": [
    "#ESG portfolios - Static\n",
    "#Calculate the daily returns for ESG portfolios \n",
    "Dates = Stock_returns.index\n",
    "Dates_len = len(Dates)\n",
    "port_ret_high = []\n",
    "port_ret_low = []\n",
    "\n",
    "#initialize dataframe of len dates\n",
    "# Loop over different portfolios and calcualte the daily returns for them \n",
    "toggle = 0\n",
    "for port in [port_stks_high_esg,port_stks_low_esg]:\n",
    "    for i in Dates[1:]:\n",
    "        #debug conditoin\n",
    "        if i.year == 2021:\n",
    "            break\n",
    "        temp = 0.0\n",
    "\n",
    "        for j in port[i.year]:\n",
    "            temp = temp + Stock_returns[j.replace(' US Equity','')][i] * 0.02\n",
    "        \n",
    "        if toggle == 0:\n",
    "            port_ret_high.append(temp)\n",
    "        else:\n",
    "            port_ret_low.append(temp)\n",
    "    toggle = 1\n",
    "port_ret_high_esg = pd.DataFrame(port_ret_high,index=Dates[:len(Dates)-252],columns=['Returns'])\n",
    "port_ret_low_esg = pd.DataFrame(port_ret_low,index=Dates[:len(Dates)-252],columns=['Returns'])\n",
    "\n",
    "\n",
    "port_ret_high_esg.to_csv(\"Port_high_ret_daily.csv\")\n",
    "port_ret_low_esg.to_csv(\"Port_low_ret_daily.csv\")\n"
   ]
  },
  {
   "cell_type": "markdown",
   "metadata": {},
   "source": [
    "## Fama French Model Fitting"
   ]
  },
  {
   "cell_type": "code",
   "execution_count": 11,
   "metadata": {},
   "outputs": [],
   "source": [
    "#Read FF factors \n",
    "ff_factors = pd.read_csv(\"H:/My Drive/Projects/ESG_Momentum_Strategy/Data/Fama_French_Factors.csv\",index_col=\"date\",parse_dates=['date'])\n",
    "ff_factors.head()\n",
    "\n",
    "#Create a dataframe of fama frenchfactors and our returns \n",
    "mkt_rf = []\n",
    "smb = []\n",
    "hml = []\n",
    "rf = []\n",
    "for i in port_ret_high_esg.index:\n",
    "    mkt_rf.append(ff_factors['Mkt-RF'][i])\n",
    "    smb.append(ff_factors['SMB'][i])\n",
    "    hml.append(ff_factors['HML'][i])\n",
    "    rf.append(ff_factors['RF'][i])\n",
    "\n",
    "fama_french_factors = pd.DataFrame(list(zip(mkt_rf,smb,hml)),columns=['MKT-RF',\"SMB\",\"HML\"],index=port_ret_high_esg.index)\n",
    "\n"
   ]
  },
  {
   "cell_type": "code",
   "execution_count": 173,
   "metadata": {},
   "outputs": [
    {
     "data": {
      "text/html": [
       "<table class=\"simpletable\">\n",
       "<caption>OLS Regression Results</caption>\n",
       "<tr>\n",
       "  <th>Dep. Variable:</th>         <td>Returns</td>     <th>  R-squared:         </th>  <td>   0.288</td> \n",
       "</tr>\n",
       "<tr>\n",
       "  <th>Model:</th>                   <td>OLS</td>       <th>  Adj. R-squared:    </th>  <td>   0.287</td> \n",
       "</tr>\n",
       "<tr>\n",
       "  <th>Method:</th>             <td>Least Squares</td>  <th>  F-statistic:       </th>  <td>   372.9</td> \n",
       "</tr>\n",
       "<tr>\n",
       "  <th>Date:</th>             <td>Wed, 23 Mar 2022</td> <th>  Prob (F-statistic):</th>  <td>2.42e-203</td>\n",
       "</tr>\n",
       "<tr>\n",
       "  <th>Time:</th>                 <td>19:33:30</td>     <th>  Log-Likelihood:    </th>  <td>  8858.8</td> \n",
       "</tr>\n",
       "<tr>\n",
       "  <th>No. Observations:</th>      <td>  2768</td>      <th>  AIC:               </th> <td>-1.771e+04</td>\n",
       "</tr>\n",
       "<tr>\n",
       "  <th>Df Residuals:</th>          <td>  2764</td>      <th>  BIC:               </th> <td>-1.769e+04</td>\n",
       "</tr>\n",
       "<tr>\n",
       "  <th>Df Model:</th>              <td>     3</td>      <th>                     </th>      <td> </td>    \n",
       "</tr>\n",
       "<tr>\n",
       "  <th>Covariance Type:</th>      <td>nonrobust</td>    <th>                     </th>      <td> </td>    \n",
       "</tr>\n",
       "</table>\n",
       "<table class=\"simpletable\">\n",
       "<tr>\n",
       "     <td></td>       <th>coef</th>     <th>std err</th>      <th>t</th>      <th>P>|t|</th>  <th>[0.025</th>    <th>0.975]</th>  \n",
       "</tr>\n",
       "<tr>\n",
       "  <th>const</th>  <td>    0.0004</td> <td>    0.000</td> <td>    1.959</td> <td> 0.050</td> <td> -2.5e-07</td> <td>    0.001</td>\n",
       "</tr>\n",
       "<tr>\n",
       "  <th>MKT-RF</th> <td>    0.0028</td> <td>    0.000</td> <td>   16.100</td> <td> 0.000</td> <td>    0.002</td> <td>    0.003</td>\n",
       "</tr>\n",
       "<tr>\n",
       "  <th>SMB</th>    <td>    0.0073</td> <td>    0.000</td> <td>   21.240</td> <td> 0.000</td> <td>    0.007</td> <td>    0.008</td>\n",
       "</tr>\n",
       "<tr>\n",
       "  <th>HML</th>    <td>    0.0025</td> <td>    0.000</td> <td>    8.846</td> <td> 0.000</td> <td>    0.002</td> <td>    0.003</td>\n",
       "</tr>\n",
       "</table>\n",
       "<table class=\"simpletable\">\n",
       "<tr>\n",
       "  <th>Omnibus:</th>       <td>872.830</td> <th>  Durbin-Watson:     </th> <td>   2.382</td> \n",
       "</tr>\n",
       "<tr>\n",
       "  <th>Prob(Omnibus):</th> <td> 0.000</td>  <th>  Jarque-Bera (JB):  </th> <td>18706.598</td>\n",
       "</tr>\n",
       "<tr>\n",
       "  <th>Skew:</th>          <td> 0.970</td>  <th>  Prob(JB):          </th> <td>    0.00</td> \n",
       "</tr>\n",
       "<tr>\n",
       "  <th>Kurtosis:</th>      <td>15.587</td>  <th>  Cond. No.          </th> <td>    2.13</td> \n",
       "</tr>\n",
       "</table><br/><br/>Notes:<br/>[1] Standard Errors assume that the covariance matrix of the errors is correctly specified."
      ],
      "text/plain": [
       "<class 'statsmodels.iolib.summary.Summary'>\n",
       "\"\"\"\n",
       "                            OLS Regression Results                            \n",
       "==============================================================================\n",
       "Dep. Variable:                Returns   R-squared:                       0.288\n",
       "Model:                            OLS   Adj. R-squared:                  0.287\n",
       "Method:                 Least Squares   F-statistic:                     372.9\n",
       "Date:                Wed, 23 Mar 2022   Prob (F-statistic):          2.42e-203\n",
       "Time:                        19:33:30   Log-Likelihood:                 8858.8\n",
       "No. Observations:                2768   AIC:                        -1.771e+04\n",
       "Df Residuals:                    2764   BIC:                        -1.769e+04\n",
       "Df Model:                           3                                         \n",
       "Covariance Type:            nonrobust                                         \n",
       "==============================================================================\n",
       "                 coef    std err          t      P>|t|      [0.025      0.975]\n",
       "------------------------------------------------------------------------------\n",
       "const          0.0004      0.000      1.959      0.050    -2.5e-07       0.001\n",
       "MKT-RF         0.0028      0.000     16.100      0.000       0.002       0.003\n",
       "SMB            0.0073      0.000     21.240      0.000       0.007       0.008\n",
       "HML            0.0025      0.000      8.846      0.000       0.002       0.003\n",
       "==============================================================================\n",
       "Omnibus:                      872.830   Durbin-Watson:                   2.382\n",
       "Prob(Omnibus):                  0.000   Jarque-Bera (JB):            18706.598\n",
       "Skew:                           0.970   Prob(JB):                         0.00\n",
       "Kurtosis:                      15.587   Cond. No.                         2.13\n",
       "==============================================================================\n",
       "\n",
       "Notes:\n",
       "[1] Standard Errors assume that the covariance matrix of the errors is correctly specified.\n",
       "\"\"\""
      ]
     },
     "execution_count": 173,
     "metadata": {},
     "output_type": "execute_result"
    }
   ],
   "source": [
    "#High ESG portfolio\n",
    "X = sm.add_constant(fama_french_factors[['MKT-RF',\"SMB\",\"HML\"]])\n",
    "model1 = sm.OLS(port_ret_high_esg['Returns'],X).fit()\n",
    "model1.summary()\n"
   ]
  },
  {
   "cell_type": "code",
   "execution_count": 174,
   "metadata": {},
   "outputs": [
    {
     "data": {
      "text/html": [
       "<table class=\"simpletable\">\n",
       "<caption>OLS Regression Results</caption>\n",
       "<tr>\n",
       "  <th>Dep. Variable:</th>         <td>Returns</td>     <th>  R-squared:         </th> <td>   0.006</td>\n",
       "</tr>\n",
       "<tr>\n",
       "  <th>Model:</th>                   <td>OLS</td>       <th>  Adj. R-squared:    </th> <td>   0.005</td>\n",
       "</tr>\n",
       "<tr>\n",
       "  <th>Method:</th>             <td>Least Squares</td>  <th>  F-statistic:       </th> <td>   5.709</td>\n",
       "</tr>\n",
       "<tr>\n",
       "  <th>Date:</th>             <td>Wed, 23 Mar 2022</td> <th>  Prob (F-statistic):</th> <td>0.000682</td>\n",
       "</tr>\n",
       "<tr>\n",
       "  <th>Time:</th>                 <td>19:35:39</td>     <th>  Log-Likelihood:    </th> <td>  4735.6</td>\n",
       "</tr>\n",
       "<tr>\n",
       "  <th>No. Observations:</th>      <td>  2768</td>      <th>  AIC:               </th> <td>  -9463.</td>\n",
       "</tr>\n",
       "<tr>\n",
       "  <th>Df Residuals:</th>          <td>  2764</td>      <th>  BIC:               </th> <td>  -9439.</td>\n",
       "</tr>\n",
       "<tr>\n",
       "  <th>Df Model:</th>              <td>     3</td>      <th>                     </th>     <td> </td>   \n",
       "</tr>\n",
       "<tr>\n",
       "  <th>Covariance Type:</th>      <td>nonrobust</td>    <th>                     </th>     <td> </td>   \n",
       "</tr>\n",
       "</table>\n",
       "<table class=\"simpletable\">\n",
       "<tr>\n",
       "     <td></td>       <th>coef</th>     <th>std err</th>      <th>t</th>      <th>P>|t|</th>  <th>[0.025</th>    <th>0.975]</th>  \n",
       "</tr>\n",
       "<tr>\n",
       "  <th>const</th>  <td>    0.0050</td> <td>    0.001</td> <td>    5.939</td> <td> 0.000</td> <td>    0.003</td> <td>    0.007</td>\n",
       "</tr>\n",
       "<tr>\n",
       "  <th>MKT-RF</th> <td>    0.0015</td> <td>    0.001</td> <td>    1.898</td> <td> 0.058</td> <td>-4.91e-05</td> <td>    0.003</td>\n",
       "</tr>\n",
       "<tr>\n",
       "  <th>SMB</th>    <td>    0.0046</td> <td>    0.002</td> <td>    3.039</td> <td> 0.002</td> <td>    0.002</td> <td>    0.008</td>\n",
       "</tr>\n",
       "<tr>\n",
       "  <th>HML</th>    <td>    0.0002</td> <td>    0.001</td> <td>    0.132</td> <td> 0.895</td> <td>   -0.002</td> <td>    0.003</td>\n",
       "</tr>\n",
       "</table>\n",
       "<table class=\"simpletable\">\n",
       "<tr>\n",
       "  <th>Omnibus:</th>       <td>6646.264</td> <th>  Durbin-Watson:     </th>   <td>   2.095</td>  \n",
       "</tr>\n",
       "<tr>\n",
       "  <th>Prob(Omnibus):</th>  <td> 0.000</td>  <th>  Jarque-Bera (JB):  </th> <td>78336955.663</td>\n",
       "</tr>\n",
       "<tr>\n",
       "  <th>Skew:</th>           <td>24.033</td>  <th>  Prob(JB):          </th>   <td>    0.00</td>  \n",
       "</tr>\n",
       "<tr>\n",
       "  <th>Kurtosis:</th>       <td>825.746</td> <th>  Cond. No.          </th>   <td>    2.13</td>  \n",
       "</tr>\n",
       "</table><br/><br/>Notes:<br/>[1] Standard Errors assume that the covariance matrix of the errors is correctly specified."
      ],
      "text/plain": [
       "<class 'statsmodels.iolib.summary.Summary'>\n",
       "\"\"\"\n",
       "                            OLS Regression Results                            \n",
       "==============================================================================\n",
       "Dep. Variable:                Returns   R-squared:                       0.006\n",
       "Model:                            OLS   Adj. R-squared:                  0.005\n",
       "Method:                 Least Squares   F-statistic:                     5.709\n",
       "Date:                Wed, 23 Mar 2022   Prob (F-statistic):           0.000682\n",
       "Time:                        19:35:39   Log-Likelihood:                 4735.6\n",
       "No. Observations:                2768   AIC:                            -9463.\n",
       "Df Residuals:                    2764   BIC:                            -9439.\n",
       "Df Model:                           3                                         \n",
       "Covariance Type:            nonrobust                                         \n",
       "==============================================================================\n",
       "                 coef    std err          t      P>|t|      [0.025      0.975]\n",
       "------------------------------------------------------------------------------\n",
       "const          0.0050      0.001      5.939      0.000       0.003       0.007\n",
       "MKT-RF         0.0015      0.001      1.898      0.058   -4.91e-05       0.003\n",
       "SMB            0.0046      0.002      3.039      0.002       0.002       0.008\n",
       "HML            0.0002      0.001      0.132      0.895      -0.002       0.003\n",
       "==============================================================================\n",
       "Omnibus:                     6646.264   Durbin-Watson:                   2.095\n",
       "Prob(Omnibus):                  0.000   Jarque-Bera (JB):         78336955.663\n",
       "Skew:                          24.033   Prob(JB):                         0.00\n",
       "Kurtosis:                     825.746   Cond. No.                         2.13\n",
       "==============================================================================\n",
       "\n",
       "Notes:\n",
       "[1] Standard Errors assume that the covariance matrix of the errors is correctly specified.\n",
       "\"\"\""
      ]
     },
     "execution_count": 174,
     "metadata": {},
     "output_type": "execute_result"
    }
   ],
   "source": [
    "#Low ESG portfolio\n",
    "model2 = sm.OLS(port_ret_low_esg['Returns'],X).fit()\n",
    "model2.summary()"
   ]
  },
  {
   "cell_type": "code",
   "execution_count": 207,
   "metadata": {},
   "outputs": [
    {
     "data": {
      "image/png": "[encoded data removed]",
      "text/plain": [
       "<Figure size 432x288 with 1 Axes>"
      ]
     },
     "metadata": {
      "needs_background": "light"
     },
     "output_type": "display_data"
    },
    {
     "name": "stdout",
     "output_type": "stream",
     "text": [
      "             Returns  Cum_Rets\n",
      "Date                          \n",
      "2010-01-04  0.005408  1.005408\n",
      "2010-01-05  0.018687  1.018687\n",
      "2010-01-06  0.012718  1.012718\n",
      "2010-01-07 -0.006550  0.993450\n",
      "2010-01-08  0.004161  1.004161\n",
      "...              ...       ...\n",
      "2020-12-23  0.012905  1.012905\n",
      "2020-12-24 -0.009300  0.990700\n",
      "2020-12-28 -0.005556  0.994444\n",
      "2020-12-29 -0.016075  0.983925\n",
      "2020-12-30  0.024011  1.024011\n",
      "\n",
      "[2768 rows x 2 columns]\n"
     ]
    }
   ],
   "source": [
    "port_ret_high_esg[\"Cum_Rets\"] = port_ret_high_esg[\"Returns\"]+1\n",
    "port_ret_low_esg[\"Cum_Rets\"] = port_ret_low_esg[\"Returns\"]+1\n",
    "cum_rets_high_esg = port_ret_high_esg[\"Cum_Rets\"].cumprod()\n",
    "cum_rets_low_esg = port_ret_low_esg[\"Cum_Rets\"].cumprod()\n",
    "\n",
    "# plt.plot(cum_rets_high_esg)\n",
    "# plt.plot(cum_rets_low_esg)\n",
    "plt.plot(port_ret_low_esg['Returns'])\n",
    "plt.show()\n",
    "min(port_ret_low_esg['Returns'])\n",
    "print(port_ret_low_esg)"
   ]
  }
 ],
 "metadata": {
  "interpreter": {
   "hash": "08abd7b7c8d0be127d4e4a7867fced7f62c6dcfa7739a0184e3b4f48aa7caea7"
  },
  "kernelspec": {
   "display_name": "Python 3.9.10 64-bit (windows store)",
   "language": "python",
   "name": "python3"
  },
  "language_info": {
   "codemirror_mode": {
    "name": "ipython",
    "version": 3
   },
   "file_extension": ".py",
   "mimetype": "text/x-python",
   "name": "python",
   "nbconvert_exporter": "python",
   "pygments_lexer": "ipython3",
   "version": "3.9.12"
  },
  "orig_nbformat": 4
 },
 "nbformat": 4,
 "nbformat_minor": 2
}
