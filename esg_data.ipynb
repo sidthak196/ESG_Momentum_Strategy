{
 "cells": [
  {
   "cell_type": "code",
   "execution_count": 64,
   "metadata": {},
   "outputs": [],
   "source": [
    "import pandas as pd\n",
    "import yfinance as yf\n",
    "import datetime as dt\n",
    "import numpy as np\n",
    "import itertools"
   ]
  },
  {
   "cell_type": "code",
   "execution_count": 2,
   "metadata": {},
   "outputs": [],
   "source": [
    "esg_data= pd.read_csv(\"H:/My Drive/Projects/ESG_Momentum_Strategy/Data/ESG_Data_Yearly.csv\")\n",
    "# esg_data.sort_values(by=['ESG Disc Score','Mkt Cap'],ascending=False,inplace=True)\n",
    "year_group=esg_data.groupby(by='YEAR')"
   ]
  },
  {
   "cell_type": "code",
   "execution_count": null,
   "metadata": {},
   "outputs": [],
   "source": [
    "#Portfolio Creation using ESG\n",
    "port_size = 50\n",
    "port_stks_high_esg = pd.DataFrame()\n",
    "port_stks_low_esg = pd.DataFrame()\n",
    "for i in range(2010,2021):\n",
    "    temp = year_group.get_group(i)\n",
    "    temp.sort_values(by='ESG_DISC_SCORE',ascending=True,inplace=True)\n",
    "    temp_len = len(temp)\n",
    "    port_stks_high_esg[i] = [s for s in temp['ID'][temp_len-port_size:]]\n",
    "    port_stks_low_esg[i] = [s for s in temp['ID'][:port_size]]\n",
    "    print(temp_len)\n",
    "\n"
   ]
  },
  {
   "cell_type": "code",
   "execution_count": null,
   "metadata": {},
   "outputs": [],
   "source": [
    "# stocks we need the data for from the master STOCK_PRICE file. \n",
    "stks_needed_1 = [item for t in port_stks_high_esg.values.tolist() for item in t]\n",
    "stks_needed_2 = [item for t in port_stks_low_esg.values.tolist() for item in t]\n",
    "stks_needed = set(stks_needed_1).union(set(stks_needed_2))\n",
    "stks_needed = list(stks_needed)\n",
    "stks_needed = [i.replace(\" US Equity\",\"\") for i in stks_needed]\n",
    "# stks_needed\n",
    "# pd.DataFrame(list(stks_needed)).to_csv(\"Stocks_needed.csv\")"
   ]
  },
  {
   "cell_type": "code",
   "execution_count": null,
   "metadata": {},
   "outputs": [],
   "source": [
    "#Create the stock price database\n",
    "st_date = dt.datetime(2010,1,1)\n",
    "en_date = dt.datetime(2021,12,31)\n",
    "Stk_prices_list = []\n",
    "flag = 0\n",
    "tc_list = []\n",
    "for tc in list(stks_needed):\n",
    "    if flag ==0 : \n",
    "        flag =1 \n",
    "        Stk_prices_list.append(yf.Ticker(tc).history(start=st_date,end=en_date).index)\n",
    "        tc_list.append('Date')\n",
    "    Stk_prices_list.append(yf.Ticker(tc).history(start=st_date,end=en_date)['Open'].tolist())\n",
    "    tc_list.append(tc)\n",
    "\n",
    "# print(len(Stk_prices_list))\n",
    "# print(len(tc_list))\n",
    "list_size = [len(i) for i in Stk_prices_list]\n",
    "Stk_prices_list=list(map(list, itertools.zip_longest(*Stk_prices_list, fillvalue=None)))\n",
    "Stock_prices = pd.DataFrame(Stk_prices_list,columns=tc_list)\n",
    "print(min(list_size))\n",
    "print(Stock_prices)\n",
    "\n",
    "        "
   ]
  },
  {
   "cell_type": "code",
   "execution_count": 78,
   "metadata": {},
   "outputs": [],
   "source": [
    "Stock_prices.fillna(method='ffill',inplace=True)"
   ]
  },
  {
   "cell_type": "code",
   "execution_count": 79,
   "metadata": {},
   "outputs": [
    {
     "data": {
      "text/plain": [
       "Date        0\n",
       "PLAG        0\n",
       "GWGH     1190\n",
       "OIS         0\n",
       "CHS         0\n",
       "         ... \n",
       "TTOO     1156\n",
       "TTNP        0\n",
       "LTRPA    1170\n",
       "NMGX        0\n",
       "SWN         0\n",
       "Length: 534, dtype: int64"
      ]
     },
     "execution_count": 79,
     "metadata": {},
     "output_type": "execute_result"
    }
   ],
   "source": [
    "Stock_prices.isna().sum(axis=0)"
   ]
  },
  {
   "cell_type": "code",
   "execution_count": 71,
   "metadata": {},
   "outputs": [
    {
     "data": {
      "text/plain": [
       "0     ONCT US Equity\n",
       "1      ISR US Equity\n",
       "2     AVEO US Equity\n",
       "3     SIRI US Equity\n",
       "4       NR US Equity\n",
       "5     VERU US Equity\n",
       "6      CCO US Equity\n",
       "7     GAIA US Equity\n",
       "8     LBTI US Equity\n",
       "9       IO US Equity\n",
       "10    GURE US Equity\n",
       "11     ALR US Equity\n",
       "12    INOD US Equity\n",
       "13     JAN US Equity\n",
       "14     EGY US Equity\n",
       "15    ZNOG US Equity\n",
       "16    AXAS US Equity\n",
       "17    FARM US Equity\n",
       "18    BIOL US Equity\n",
       "19    ULBI US Equity\n",
       "20    ENDP US Equity\n",
       "21    FACO US Equity\n",
       "22    MHLD US Equity\n",
       "23    UIHC US Equity\n",
       "24     NLY US Equity\n",
       "25     XPL US Equity\n",
       "26     GEG US Equity\n",
       "27    DXYN US Equity\n",
       "28     BDR US Equity\n",
       "29    QUIK US Equity\n",
       "30     HHS US Equity\n",
       "31    USEG US Equity\n",
       "32     UTI US Equity\n",
       "33     ENG US Equity\n",
       "34     CHS US Equity\n",
       "35     RGS US Equity\n",
       "36     FTI US Equity\n",
       "37    EMAN US Equity\n",
       "38    CRXM US Equity\n",
       "39     SWN US Equity\n",
       "40     IMH US Equity\n",
       "41    TLFA US Equity\n",
       "42     OIS US Equity\n",
       "43    HDSN US Equity\n",
       "44    CPHI US Equity\n",
       "45     RIG US Equity\n",
       "46     PBI US Equity\n",
       "47      TK US Equity\n",
       "48    STCN US Equity\n",
       "49    KODK US Equity\n",
       "Name: 2010, dtype: object"
      ]
     },
     "execution_count": 71,
     "metadata": {},
     "output_type": "execute_result"
    }
   ],
   "source": [
    "port_stks_high_esg[2010]\n",
    "# Loop over different portfolios and calcualte the daily returns for them \n",
    "# Compare the returns to FF3 model and fit OLS model to it. \n"
   ]
  }
 ],
 "metadata": {
  "interpreter": {
   "hash": "08abd7b7c8d0be127d4e4a7867fced7f62c6dcfa7739a0184e3b4f48aa7caea7"
  },
  "kernelspec": {
   "display_name": "Python 3.9.10 64-bit (windows store)",
   "language": "python",
   "name": "python3"
  },
  "language_info": {
   "codemirror_mode": {
    "name": "ipython",
    "version": 3
   },
   "file_extension": ".py",
   "mimetype": "text/x-python",
   "name": "python",
   "nbconvert_exporter": "python",
   "pygments_lexer": "ipython3",
   "version": "3.9.10"
  },
  "orig_nbformat": 4
 },
 "nbformat": 4,
 "nbformat_minor": 2
}
