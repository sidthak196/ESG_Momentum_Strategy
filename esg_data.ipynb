{
 "cells": [
  {
   "cell_type": "code",
   "execution_count": 1,
   "metadata": {},
   "outputs": [],
   "source": [
    "import pandas as pd\n",
    "import yfinance as yf\n",
    "import datetime as dt\n",
    "import numpy as np\n",
    "import itertools\n",
    "import statsmodels.api as sm\n",
    "import matplotlib.pyplot as plt\n",
    "import scipy.stats as sc\n",
    "import pandas_datareader.data as pdr\n",
    "import matplotlib.dates as mdates"
   ]
  },
  {
   "cell_type": "code",
   "execution_count": 5,
   "metadata": {},
   "outputs": [
    {
     "name": "stdout",
     "output_type": "stream",
     "text": [
      "0\n",
      "1\n",
      "1\n",
      "2\n",
      "3\n",
      "5\n",
      "8\n",
      "13\n",
      "21\n",
      "34\n"
     ]
    }
   ],
   "source": [
    "def fib(n):\n",
    "    p, q = 0, 1\n",
    "    count = 0\n",
    "    while (count < n):\n",
    "        yield p\n",
    "        p, q = q, p+q\n",
    "\n",
    "t = fib(10)\n",
    "for i in t"
   ]
  },
  {
   "cell_type": "markdown",
   "metadata": {},
   "source": [
    "## Read ESG Data and Create Portfolios"
   ]
  },
  {
   "cell_type": "code",
   "execution_count": 156,
   "metadata": {},
   "outputs": [],
   "source": [
    "esg_data= pd.read_csv(\"H:/My Drive/Projects/ESG_Momentum_Strategy/Data/ESG_Data_Yearly.csv\")\n",
    "# esg_data.sort_values(by=['ESG Disc Score','Mkt Cap'],ascending=False,inplace=True)\n",
    "stks_to_remove = ['JCS', 'VYEY','SEII','CSLT']\n",
    "for i in stks_to_remove:\n",
    "    esg_data.replace(i+\" US Equity\",np.nan,inplace=True)\n",
    "esg_data.dropna(axis=0,inplace=True)\n",
    "year_group=esg_data.groupby(by='YEAR')"
   ]
  },
  {
   "cell_type": "code",
   "execution_count": 157,
   "metadata": {},
   "outputs": [],
   "source": [
    "#Portfolio Creation using ESG\n",
    "port_size = 50\n",
    "port_stks_high_esg = pd.DataFrame()\n",
    "port_stks_low_esg = pd.DataFrame()\n",
    "for i in range(2010,2021):\n",
    "    temp = year_group.get_group(i)\n",
    "    temp.sort_values(by='ESG_DISC_SCORE',ascending=True,inplace=True)\n",
    "    temp_len = len(temp)\n",
    "    port_stks_high_esg[i] = [s for s in temp['ID'][temp_len-port_size:]]\n",
    "    port_stks_low_esg[i] = [s for s in temp['ID'][:port_size]]\n",
    "\n"
   ]
  },
  {
   "cell_type": "code",
   "execution_count": 158,
   "metadata": {},
   "outputs": [],
   "source": [
    "# stocks we need the data for from the master STOCK_PRICE file. \n",
    "stks_needed_1 = [item for t in port_stks_high_esg.values.tolist() for item in t]\n",
    "stks_needed_2 = [item for t in port_stks_low_esg.values.tolist() for item in t]\n",
    "stks_needed = set(stks_needed_1).union(set(stks_needed_2))\n",
    "stks_needed = list(stks_needed)\n",
    "stks_needed = [i.replace(\" US Equity\",\"\") for i in stks_needed]\n",
    "# stks_needed\n",
    "# pd.DataFrame(list(stks_needed)).to_csv(\"Stocks_needed.csv\")"
   ]
  },
  {
   "cell_type": "markdown",
   "metadata": {},
   "source": [
    "## Create Stock Price Data (Not needed to run each time)"
   ]
  },
  {
   "cell_type": "code",
   "execution_count": 121,
   "metadata": {},
   "outputs": [],
   "source": [
    "# ##Remove tickers for which there is no data avaialble \n",
    "# stks_remove = ['JCS', 'VYEY']\n",
    "\n",
    "# for i in stks_remove:\n",
    "#     temp_i = i+\" US Equity\"\n",
    "#     # print(temp_i)\n",
    "#     # stks_needed.remove(i)\n",
    "#     port_stks_high_esg.replace(temp_i,np.nan)\n",
    "#     port_stks_high_esg.fillna(method='ffill',inplace=True)\n",
    "#     port_stks_low_esg.replace(temp_i,np.nan)\n",
    "#     port_stks_low_esg.fillna(method='ffill',inplace=True)"
   ]
  },
  {
   "cell_type": "code",
   "execution_count": 165,
   "metadata": {},
   "outputs": [
    {
     "name": "stdout",
     "output_type": "stream",
     "text": [
      "ACY\n",
      "INTEQ\n",
      "SHMP\n",
      "AFHIF\n",
      "SQBGQ\n",
      "REPH\n",
      "TUEM\n",
      "LBTI\n",
      "GTHP\n",
      "FLDM\n",
      "SDRLF\n"
     ]
    }
   ],
   "source": [
    "\n",
    "#Create the stock price database \n",
    "st_date = dt.datetime(2010,1,1)\n",
    "en_date = dt.datetime(2020,12,31)\n",
    "Stk_prices_list = []\n",
    "flag = 0\n",
    "tc_list = []\n",
    "for tc in list(stks_needed):\n",
    "    if flag ==0 : \n",
    "        flag =1 \n",
    "        Stk_prices_list.append(pdr.DataReader(tc, 'yahoo', start=st_date, end=en_date)['Adj Close'].index)\n",
    "        tc_list.append('Date')\n",
    "    try:\n",
    "        Stk_prices_list.append(pdr.DataReader(tc, 'yahoo', start=st_date, end=en_date)['Adj Close'].tolist())\n",
    "        tc_list.append(tc)\n",
    "    except:\n",
    "        print(tc)\n",
    "    \n",
    "\n",
    "Stk_prices_list=list(map(list, itertools.zip_longest(*Stk_prices_list, fillvalue=None)))\n",
    "Stock_prices = pd.DataFrame(Stk_prices_list,columns=tc_list)\n",
    "# Stock_prices.set_index('Date',inplace=True)\n",
    "\n",
    "#Create Database of stock prices\n",
    "Stock_prices.to_csv(\"STOCK_PRICE_CLOSE.csv\")        "
   ]
  },
  {
   "cell_type": "markdown",
   "metadata": {},
   "source": [
    "## Read Stock Prices from file"
   ]
  },
  {
   "cell_type": "code",
   "execution_count": 166,
   "metadata": {},
   "outputs": [],
   "source": [
    "#read from Stock prices database\n",
    "Stock_prices = pd.read_csv(\"H:/My Drive/Projects/ESG_Momentum_Strategy/STOCK_PRICE_CLOSE.csv\",index_col='Date')\n",
    "# Stock_prices.drop('Unnamed: 0',axis= 1,inplace=True)\n",
    "Stock_prices.fillna(method='ffill',inplace=True)\n",
    "Stock_prices.index = pd.to_datetime(Stock_prices.index)\n",
    "Stock_returns = Stock_prices.pct_change()\n"
   ]
  },
  {
   "cell_type": "markdown",
   "metadata": {},
   "source": [
    "## Create Momentum Portfolios"
   ]
  },
  {
   "cell_type": "code",
   "execution_count": null,
   "metadata": {},
   "outputs": [],
   "source": [
    "Mom_HESG_Buy_portfolio = []\n",
    "Mom_HESG_Sell_portfolio = []\n",
    "Mom_LESG_Buy_portfolio = []\n",
    "Mom_LESG_Sell_portfolio = []\n",
    "\n",
    "Mom_Port_length = 10\n",
    "\n",
    "#Create Date Ranges of observation periods \n",
    "# Assume first observation period starts from 04-01-2010\n",
    "Observation_start_date = dt.datetime(2010,4,1)\n",
    "Obs_per_st_dates = [Observation_start_date + pd.DateOffset(months=3*i) for i in range(45)]\n",
    "Dates = Stock_returns.index\n",
    "Obs_per_date_ranges = []\n",
    "\n",
    "Dates = Dates[Dates>=Observation_start_date]\n",
    "for per_st in Obs_per_st_dates[1:]:\n",
    "    Obs_per_date_ranges.append(Dates[Dates<=per_st].tolist())\n",
    "    Dates = Dates[Dates>per_st]\n",
    "Obs_per_date_ranges.pop()\n",
    "\n",
    "\n",
    "toggle = 0\n",
    "for port in [port_stks_high_esg,port_stks_low_esg]:\n",
    "    for rng in Obs_per_date_ranges:\n",
    "        # print(len(rng))\n",
    "        year = rng[0].year\n",
    "        if rng[0].month<3 and year > 2010:\n",
    "            year = year -1 \n",
    "        tc_dict={}\n",
    "        for tc in port[year]:\n",
    "            c = tc.replace(' US Equity','')\n",
    "            try:\n",
    "                ret = Stock_returns[c][rng]\n",
    "            except:\n",
    "                ret = [0]*len(rng)\n",
    "            ret = [1+i for i in ret]\n",
    "            tc_dict[c] = np.prod(ret)\n",
    "        #get the 10 highest/lowest return tciekrs and add to buy/sell portfolio    \n",
    "        temp_list = sorted(tc_dict , key = tc_dict.get,reverse=True)\n",
    "        if toggle == 0:\n",
    "            Mom_HESG_Buy_portfolio.append(temp_list[:Mom_Port_length])\n",
    "            Mom_HESG_Sell_portfolio.append(temp_list[-Mom_Port_length:])\n",
    "        else:\n",
    "            Mom_LESG_Buy_portfolio.append(temp_list[:Mom_Port_length])\n",
    "            Mom_LESG_Sell_portfolio.append(temp_list[-Mom_Port_length:])\n",
    "    toggle = 1\n"
   ]
  },
  {
   "cell_type": "code",
   "execution_count": 190,
   "metadata": {},
   "outputs": [],
   "source": [
    "#Calculate daily returns for the momentum strategy portfolios \n",
    "\n",
    "Scalar = 1/(2*Mom_Port_length)\n",
    "Mom_HESG_Returns = []\n",
    "Mom_LESG_Returns = []\n",
    "Dates_index  = [i for j in Obs_per_date_ranges[1:] for i in j]\n",
    "\n",
    "\n",
    "#HIGH ESG PORTFOLIO\n",
    "for i in range(1,len(Obs_per_date_ranges)):\n",
    "    temp = [0]*len(Obs_per_date_ranges[i])\n",
    "    for tc in range(Mom_Port_length):\n",
    "        for k in range(len(Obs_per_date_ranges[i])):\n",
    "            # print(Stock_returns[Mom_HESG_Buy_portfolio[i][tc]][Obs_per_date_ranges[i][k]], i, k , tc)\n",
    "            try:\n",
    "                temp_high_rets= Stock_returns[Mom_HESG_Buy_portfolio[i-1][tc]][Obs_per_date_ranges[i][k]]\n",
    "            except:\n",
    "                temp_high_rets=0\n",
    "            try:\n",
    "                temp_low_rets= Stock_returns[Mom_HESG_Sell_portfolio[i-1][tc]][Obs_per_date_ranges[i][k]]\n",
    "            except:\n",
    "                temp_low_rets =0\n",
    "            temp[k] = temp[k] + ((temp_low_rets-temp_high_rets)*Scalar)\n",
    "    Mom_HESG_Returns.append(temp)\n",
    "Mom_HESG_Returns = [Mom_HESG_Returns[i][j] for i in range(len(Mom_HESG_Returns)) for j in range(len(Mom_HESG_Returns[i]))]\n",
    "\n",
    "\n",
    "#LoW ESG PORTFOLIO\n",
    "for i in range(1,len(Obs_per_date_ranges)):\n",
    "    temp = [0]*len(Obs_per_date_ranges[i])\n",
    "    for tc in range(Mom_Port_length):\n",
    "        for k in range(len(Obs_per_date_ranges[i])):\n",
    "            # print(Stock_returns[Mom_HESG_Buy_portfolio[i][tc]][Obs_per_date_ranges[i][k]], i, k , tc)\n",
    "            try:\n",
    "                temp_high_rets= Stock_returns[Mom_LESG_Buy_portfolio[i-1][tc]][Obs_per_date_ranges[i][k]]\n",
    "            except:\n",
    "                temp_high_rets = 0\n",
    "            try:\n",
    "                temp_low_rets= Stock_returns[Mom_LESG_Sell_portfolio[i-1][tc]][Obs_per_date_ranges[i][k]]\n",
    "            except:\n",
    "                temp_low_rets=0\n",
    "            temp[k] = temp[k] + ((temp_low_rets-temp_high_rets)*Scalar)\n",
    "    Mom_LESG_Returns.append(temp)\n",
    "Mom_LESG_Returns = [Mom_LESG_Returns[i][j] for i in range(len(Mom_LESG_Returns)) for j in range(len(Mom_LESG_Returns[i]))]\n",
    "\n",
    "Mom_Returns = pd.DataFrame(list(zip(Mom_HESG_Returns,Mom_LESG_Returns)),columns=['HIGHESG','LOWESG'],index=Dates_index)\n",
    "# Mom_Returns.to_csv(\"Momentum_Returns.csv\")"
   ]
  },
  {
   "cell_type": "code",
   "execution_count": 193,
   "metadata": {},
   "outputs": [],
   "source": [
    "Mom_Returns.to_csv('Momentum_Returns.csv')"
   ]
  },
  {
   "cell_type": "code",
   "execution_count": 237,
   "metadata": {},
   "outputs": [
    {
     "data": {
      "image/png": "[encoded data removed]",
      "text/plain": [
       "<Figure size 432x288 with 1 Axes>"
      ]
     },
     "metadata": {
      "needs_background": "light"
     },
     "output_type": "display_data"
    },
    {
     "data": {
      "image/png": "[encoded data removed]",
      "text/plain": [
       "<Figure size 432x288 with 1 Axes>"
      ]
     },
     "metadata": {
      "needs_background": "light"
     },
     "output_type": "display_data"
    }
   ],
   "source": [
    "t = [1+i for i in Mom_HESG_Returns]\n",
    "t = np.cumprod(t)\n",
    "plt.gca().xaxis.set_major_formatter(mdates.DateFormatter('%m/%Y'))\n",
    "plt.gca().xaxis.set_major_locator(mdates.DayLocator(interval=400))\n",
    "plt.plot(Dates_index,t)\n",
    "plt.gcf().autofmt_xdate()\n",
    "plt.xlabel(\"Dates\")\n",
    "plt.ylabel(\"Returns\")\n",
    "plt.title(\"Momentum Strategy Returns - High ESG Portfolio\")\n",
    "plt.show()\n",
    "\n",
    "s = [1+i for i in Mom_LESG_Returns]\n",
    "s = np.cumprod(s)\n",
    "plt.gca().xaxis.set_major_formatter(mdates.DateFormatter('%m/%Y'))\n",
    "plt.gca().xaxis.set_major_locator(mdates.DayLocator(interval=400))\n",
    "plt.plot(Dates_index,s)\n",
    "plt.gcf().autofmt_xdate()\n",
    "plt.xlabel(\"Dates\")\n",
    "plt.ylabel(\"Returns\")\n",
    "plt.title(\"Momentum Strategy Returns - Low ESG Portfolio\")\n",
    "plt.show()"
   ]
  },
  {
   "cell_type": "code",
   "execution_count": 252,
   "metadata": {},
   "outputs": [
    {
     "data": {
      "image/png": "[encoded data removed]",
      "text/plain": [
       "<Figure size 432x288 with 1 Axes>"
      ]
     },
     "metadata": {
      "needs_background": "light"
     },
     "output_type": "display_data"
    }
   ],
   "source": [
    "t = [((1+Mom_HESG_Returns[i])**(365/max(1,i))-1) for i in range(len(Mom_HESG_Returns))]\n",
    "plt.plot(t[1:])\n",
    "plt.show()"
   ]
  },
  {
   "cell_type": "code",
   "execution_count": 243,
   "metadata": {},
   "outputs": [
    {
     "data": {
      "text/plain": [
       "[0, 0]"
      ]
     },
     "execution_count": 243,
     "metadata": {},
     "output_type": "execute_result"
    }
   ],
   "source": []
  },
  {
   "cell_type": "markdown",
   "metadata": {},
   "source": [
    "## FAMA FRENCH FITTING"
   ]
  },
  {
   "cell_type": "code",
   "execution_count": 212,
   "metadata": {},
   "outputs": [],
   "source": [
    "#Read FF factors \n",
    "ff_factors = pd.read_csv(\"H:/My Drive/Projects/ESG_Momentum_Strategy/Data/Fama_French_Factors.csv\",index_col=\"date\",parse_dates=['date'])\n",
    "ff_factors.head()\n",
    "\n",
    "#Create a dataframe of fama frenchfactors and our returns \n",
    "mkt_rf = []\n",
    "smb = []\n",
    "hml = []\n",
    "rf = []\n",
    "for i in Mom_Returns.index:\n",
    "    mkt_rf.append(ff_factors['Mkt-RF'][i])\n",
    "    smb.append(ff_factors['SMB'][i])\n",
    "    hml.append(ff_factors['HML'][i])\n",
    "    rf.append(ff_factors['RF'][i])\n",
    "\n",
    "fama_french_factors = pd.DataFrame(list(zip(mkt_rf,smb,hml)),columns=['MKT-RF',\"SMB\",\"HML\"],index=Mom_Returns.index)\n",
    " "
   ]
  },
  {
   "cell_type": "code",
   "execution_count": 216,
   "metadata": {},
   "outputs": [
    {
     "data": {
      "text/html": [
       "<table class=\"simpletable\">\n",
       "<caption>OLS Regression Results</caption>\n",
       "<tr>\n",
       "  <th>Dep. Variable:</th>            <td>y</td>        <th>  R-squared:         </th>  <td>   0.027</td> \n",
       "</tr>\n",
       "<tr>\n",
       "  <th>Model:</th>                   <td>OLS</td>       <th>  Adj. R-squared:    </th>  <td>   0.026</td> \n",
       "</tr>\n",
       "<tr>\n",
       "  <th>Method:</th>             <td>Least Squares</td>  <th>  F-statistic:       </th>  <td>   24.07</td> \n",
       "</tr>\n",
       "<tr>\n",
       "  <th>Date:</th>             <td>Wed, 13 Apr 2022</td> <th>  Prob (F-statistic):</th>  <td>2.32e-15</td> \n",
       "</tr>\n",
       "<tr>\n",
       "  <th>Time:</th>                 <td>16:15:23</td>     <th>  Log-Likelihood:    </th>  <td>  6402.1</td> \n",
       "</tr>\n",
       "<tr>\n",
       "  <th>No. Observations:</th>      <td>  2644</td>      <th>  AIC:               </th> <td>-1.280e+04</td>\n",
       "</tr>\n",
       "<tr>\n",
       "  <th>Df Residuals:</th>          <td>  2640</td>      <th>  BIC:               </th> <td>-1.277e+04</td>\n",
       "</tr>\n",
       "<tr>\n",
       "  <th>Df Model:</th>              <td>     3</td>      <th>                     </th>      <td> </td>    \n",
       "</tr>\n",
       "<tr>\n",
       "  <th>Covariance Type:</th>      <td>nonrobust</td>    <th>                     </th>      <td> </td>    \n",
       "</tr>\n",
       "</table>\n",
       "<table class=\"simpletable\">\n",
       "<tr>\n",
       "     <td></td>       <th>coef</th>     <th>std err</th>      <th>t</th>      <th>P>|t|</th>  <th>[0.025</th>    <th>0.975]</th>  \n",
       "</tr>\n",
       "<tr>\n",
       "  <th>const</th>  <td>   -0.0122</td> <td>    0.000</td> <td>  -29.004</td> <td> 0.000</td> <td>   -0.013</td> <td>   -0.011</td>\n",
       "</tr>\n",
       "<tr>\n",
       "  <th>MKT-RF</th> <td>    0.0005</td> <td>    0.000</td> <td>    1.271</td> <td> 0.204</td> <td>   -0.000</td> <td>    0.001</td>\n",
       "</tr>\n",
       "<tr>\n",
       "  <th>SMB</th>    <td>    0.0020</td> <td>    0.001</td> <td>    2.607</td> <td> 0.009</td> <td>    0.000</td> <td>    0.003</td>\n",
       "</tr>\n",
       "<tr>\n",
       "  <th>HML</th>    <td>    0.0045</td> <td>    0.001</td> <td>    7.382</td> <td> 0.000</td> <td>    0.003</td> <td>    0.006</td>\n",
       "</tr>\n",
       "</table>\n",
       "<table class=\"simpletable\">\n",
       "<tr>\n",
       "  <th>Omnibus:</th>       <td>304.601</td> <th>  Durbin-Watson:     </th> <td>   0.664</td> \n",
       "</tr>\n",
       "<tr>\n",
       "  <th>Prob(Omnibus):</th> <td> 0.000</td>  <th>  Jarque-Bera (JB):  </th> <td> 559.328</td> \n",
       "</tr>\n",
       "<tr>\n",
       "  <th>Skew:</th>          <td>-0.755</td>  <th>  Prob(JB):          </th> <td>3.50e-122</td>\n",
       "</tr>\n",
       "<tr>\n",
       "  <th>Kurtosis:</th>      <td> 4.673</td>  <th>  Cond. No.          </th> <td>    2.10</td> \n",
       "</tr>\n",
       "</table><br/><br/>Notes:<br/>[1] Standard Errors assume that the covariance matrix of the errors is correctly specified."
      ],
      "text/plain": [
       "<class 'statsmodels.iolib.summary.Summary'>\n",
       "\"\"\"\n",
       "                            OLS Regression Results                            \n",
       "==============================================================================\n",
       "Dep. Variable:                      y   R-squared:                       0.027\n",
       "Model:                            OLS   Adj. R-squared:                  0.026\n",
       "Method:                 Least Squares   F-statistic:                     24.07\n",
       "Date:                Wed, 13 Apr 2022   Prob (F-statistic):           2.32e-15\n",
       "Time:                        16:15:23   Log-Likelihood:                 6402.1\n",
       "No. Observations:                2644   AIC:                        -1.280e+04\n",
       "Df Residuals:                    2640   BIC:                        -1.277e+04\n",
       "Df Model:                           3                                         \n",
       "Covariance Type:            nonrobust                                         \n",
       "==============================================================================\n",
       "                 coef    std err          t      P>|t|      [0.025      0.975]\n",
       "------------------------------------------------------------------------------\n",
       "const         -0.0122      0.000    -29.004      0.000      -0.013      -0.011\n",
       "MKT-RF         0.0005      0.000      1.271      0.204      -0.000       0.001\n",
       "SMB            0.0020      0.001      2.607      0.009       0.000       0.003\n",
       "HML            0.0045      0.001      7.382      0.000       0.003       0.006\n",
       "==============================================================================\n",
       "Omnibus:                      304.601   Durbin-Watson:                   0.664\n",
       "Prob(Omnibus):                  0.000   Jarque-Bera (JB):              559.328\n",
       "Skew:                          -0.755   Prob(JB):                    3.50e-122\n",
       "Kurtosis:                       4.673   Cond. No.                         2.10\n",
       "==============================================================================\n",
       "\n",
       "Notes:\n",
       "[1] Standard Errors assume that the covariance matrix of the errors is correctly specified.\n",
       "\"\"\""
      ]
     },
     "execution_count": 216,
     "metadata": {},
     "output_type": "execute_result"
    }
   ],
   "source": [
    "#High ESG portfolio\n",
    "X = sm.add_constant(fama_french_factors[['MKT-RF',\"SMB\",\"HML\"]])\n",
    "Y = [Mom_Returns['HIGHESG'][i]-rf[i] for i in range(len(Mom_Returns['HIGHESG']))]\n",
    "model1 = sm.OLS(Y,X).fit()\n",
    "model1.summary()"
   ]
  },
  {
   "cell_type": "code",
   "execution_count": 217,
   "metadata": {},
   "outputs": [
    {
     "data": {
      "text/html": [
       "<table class=\"simpletable\">\n",
       "<caption>OLS Regression Results</caption>\n",
       "<tr>\n",
       "  <th>Dep. Variable:</th>            <td>y</td>        <th>  R-squared:         </th>  <td>   0.003</td> \n",
       "</tr>\n",
       "<tr>\n",
       "  <th>Model:</th>                   <td>OLS</td>       <th>  Adj. R-squared:    </th>  <td>   0.002</td> \n",
       "</tr>\n",
       "<tr>\n",
       "  <th>Method:</th>             <td>Least Squares</td>  <th>  F-statistic:       </th>  <td>   2.637</td> \n",
       "</tr>\n",
       "<tr>\n",
       "  <th>Date:</th>             <td>Wed, 13 Apr 2022</td> <th>  Prob (F-statistic):</th>   <td>0.0481</td>  \n",
       "</tr>\n",
       "<tr>\n",
       "  <th>Time:</th>                 <td>16:15:37</td>     <th>  Log-Likelihood:    </th>  <td>  5992.0</td> \n",
       "</tr>\n",
       "<tr>\n",
       "  <th>No. Observations:</th>      <td>  2644</td>      <th>  AIC:               </th> <td>-1.198e+04</td>\n",
       "</tr>\n",
       "<tr>\n",
       "  <th>Df Residuals:</th>          <td>  2640</td>      <th>  BIC:               </th> <td>-1.195e+04</td>\n",
       "</tr>\n",
       "<tr>\n",
       "  <th>Df Model:</th>              <td>     3</td>      <th>                     </th>      <td> </td>    \n",
       "</tr>\n",
       "<tr>\n",
       "  <th>Covariance Type:</th>      <td>nonrobust</td>    <th>                     </th>      <td> </td>    \n",
       "</tr>\n",
       "</table>\n",
       "<table class=\"simpletable\">\n",
       "<tr>\n",
       "     <td></td>       <th>coef</th>     <th>std err</th>      <th>t</th>      <th>P>|t|</th>  <th>[0.025</th>    <th>0.975]</th>  \n",
       "</tr>\n",
       "<tr>\n",
       "  <th>const</th>  <td>   -0.0074</td> <td>    0.000</td> <td>  -15.021</td> <td> 0.000</td> <td>   -0.008</td> <td>   -0.006</td>\n",
       "</tr>\n",
       "<tr>\n",
       "  <th>MKT-RF</th> <td>    0.0007</td> <td>    0.000</td> <td>    1.562</td> <td> 0.119</td> <td>   -0.000</td> <td>    0.002</td>\n",
       "</tr>\n",
       "<tr>\n",
       "  <th>SMB</th>    <td>    0.0005</td> <td>    0.001</td> <td>    0.580</td> <td> 0.562</td> <td>   -0.001</td> <td>    0.002</td>\n",
       "</tr>\n",
       "<tr>\n",
       "  <th>HML</th>    <td>    0.0013</td> <td>    0.001</td> <td>    1.807</td> <td> 0.071</td> <td>   -0.000</td> <td>    0.003</td>\n",
       "</tr>\n",
       "</table>\n",
       "<table class=\"simpletable\">\n",
       "<tr>\n",
       "  <th>Omnibus:</th>       <td>1610.540</td> <th>  Durbin-Watson:     </th> <td>   1.605</td> \n",
       "</tr>\n",
       "<tr>\n",
       "  <th>Prob(Omnibus):</th>  <td> 0.000</td>  <th>  Jarque-Bera (JB):  </th> <td>91380.730</td>\n",
       "</tr>\n",
       "<tr>\n",
       "  <th>Skew:</th>           <td> 2.158</td>  <th>  Prob(JB):          </th> <td>    0.00</td> \n",
       "</tr>\n",
       "<tr>\n",
       "  <th>Kurtosis:</th>       <td>31.475</td>  <th>  Cond. No.          </th> <td>    2.10</td> \n",
       "</tr>\n",
       "</table><br/><br/>Notes:<br/>[1] Standard Errors assume that the covariance matrix of the errors is correctly specified."
      ],
      "text/plain": [
       "<class 'statsmodels.iolib.summary.Summary'>\n",
       "\"\"\"\n",
       "                            OLS Regression Results                            \n",
       "==============================================================================\n",
       "Dep. Variable:                      y   R-squared:                       0.003\n",
       "Model:                            OLS   Adj. R-squared:                  0.002\n",
       "Method:                 Least Squares   F-statistic:                     2.637\n",
       "Date:                Wed, 13 Apr 2022   Prob (F-statistic):             0.0481\n",
       "Time:                        16:15:37   Log-Likelihood:                 5992.0\n",
       "No. Observations:                2644   AIC:                        -1.198e+04\n",
       "Df Residuals:                    2640   BIC:                        -1.195e+04\n",
       "Df Model:                           3                                         \n",
       "Covariance Type:            nonrobust                                         \n",
       "==============================================================================\n",
       "                 coef    std err          t      P>|t|      [0.025      0.975]\n",
       "------------------------------------------------------------------------------\n",
       "const         -0.0074      0.000    -15.021      0.000      -0.008      -0.006\n",
       "MKT-RF         0.0007      0.000      1.562      0.119      -0.000       0.002\n",
       "SMB            0.0005      0.001      0.580      0.562      -0.001       0.002\n",
       "HML            0.0013      0.001      1.807      0.071      -0.000       0.003\n",
       "==============================================================================\n",
       "Omnibus:                     1610.540   Durbin-Watson:                   1.605\n",
       "Prob(Omnibus):                  0.000   Jarque-Bera (JB):            91380.730\n",
       "Skew:                           2.158   Prob(JB):                         0.00\n",
       "Kurtosis:                      31.475   Cond. No.                         2.10\n",
       "==============================================================================\n",
       "\n",
       "Notes:\n",
       "[1] Standard Errors assume that the covariance matrix of the errors is correctly specified.\n",
       "\"\"\""
      ]
     },
     "execution_count": 217,
     "metadata": {},
     "output_type": "execute_result"
    }
   ],
   "source": [
    "#Low ESG portfolio\n",
    "X = sm.add_constant(fama_french_factors[['MKT-RF',\"SMB\",\"HML\"]])\n",
    "Y = [Mom_Returns['LOWESG'][i]-rf[i] for i in range(len(Mom_Returns['LOWESG']))]\n",
    "model1 = sm.OLS(Y,X).fit()\n",
    "model1.summary()"
   ]
  },
  {
   "cell_type": "markdown",
   "metadata": {},
   "source": [
    "## STATIC PORTFOLIO STRATEGY"
   ]
  },
  {
   "cell_type": "markdown",
   "metadata": {},
   "source": [
    "## Calculate Portfolio Returns "
   ]
  },
  {
   "cell_type": "code",
   "execution_count": 205,
   "metadata": {},
   "outputs": [],
   "source": [
    "#ESG portfolios - Static\n",
    "#Calculate the daily returns for ESG portfolios \n",
    "Dates = Stock_returns.index\n",
    "Dates_len = len(Dates)\n",
    "port_ret_high = []\n",
    "port_ret_low = []\n",
    "\n",
    "#initialize dataframe of len dates\n",
    "# Loop over different portfolios and calcualte the daily returns for them \n",
    "toggle = 0\n",
    "for port in [port_stks_high_esg,port_stks_low_esg]:\n",
    "    for i in Dates[1:]:\n",
    "        #debug conditoin\n",
    "        if i.year == 2021:\n",
    "            break\n",
    "        temp = 0.0\n",
    "\n",
    "        for j in port[i.year]:\n",
    "            try:\n",
    "                temp = temp + Stock_returns[j.replace(' US Equity','')][i] * 0.02\n",
    "            except:\n",
    "                temp = temp\n",
    "        if toggle == 0:\n",
    "            port_ret_high.append(temp)\n",
    "        else:\n",
    "            port_ret_low.append(temp)\n",
    "    toggle = 1\n",
    "port_ret_high_esg = pd.DataFrame(port_ret_high,index=Dates[1:],columns=['Returns'])\n",
    "port_ret_low_esg = pd.DataFrame(port_ret_low,index=Dates[1:],columns=['Returns'])\n",
    "\n",
    "\n",
    "port_ret_high_esg.to_csv(\"Port_high_ret_daily.csv\")\n",
    "port_ret_low_esg.to_csv(\"Port_low_ret_daily.csv\")\n"
   ]
  },
  {
   "cell_type": "markdown",
   "metadata": {},
   "source": [
    "## Fama French Model Fitting"
   ]
  },
  {
   "cell_type": "code",
   "execution_count": 221,
   "metadata": {},
   "outputs": [],
   "source": [
    "#Read FF factors \n",
    "ff_factors = pd.read_csv(\"H:/My Drive/Projects/ESG_Momentum_Strategy/Data/Fama_French_Factors.csv\",index_col=\"date\",parse_dates=['date'])\n",
    "ff_factors.head()\n",
    "\n",
    "#Create a dataframe of fama frenchfactors and our returns \n",
    "mkt_rf = []\n",
    "smb = []\n",
    "hml = []\n",
    "rf = []\n",
    "for i in port_ret_high_esg.index:\n",
    "    mkt_rf.append(ff_factors['Mkt-RF'][i])\n",
    "    smb.append(ff_factors['SMB'][i])\n",
    "    hml.append(ff_factors['HML'][i])\n",
    "    rf.append(ff_factors['RF'][i])\n",
    "\n",
    "fama_french_factors = pd.DataFrame(list(zip(mkt_rf,smb,hml)),columns=['MKT-RF',\"SMB\",\"HML\"],index=port_ret_high_esg.index)\n",
    "\n"
   ]
  },
  {
   "cell_type": "code",
   "execution_count": 222,
   "metadata": {},
   "outputs": [
    {
     "name": "stdout",
     "output_type": "stream",
     "text": [
      "2768\n"
     ]
    },
    {
     "data": {
      "text/html": [
       "<table class=\"simpletable\">\n",
       "<caption>OLS Regression Results</caption>\n",
       "<tr>\n",
       "  <th>Dep. Variable:</th>            <td>y</td>        <th>  R-squared:         </th>  <td>   0.645</td> \n",
       "</tr>\n",
       "<tr>\n",
       "  <th>Model:</th>                   <td>OLS</td>       <th>  Adj. R-squared:    </th>  <td>   0.644</td> \n",
       "</tr>\n",
       "<tr>\n",
       "  <th>Method:</th>             <td>Least Squares</td>  <th>  F-statistic:       </th>  <td>   1673.</td> \n",
       "</tr>\n",
       "<tr>\n",
       "  <th>Date:</th>             <td>Wed, 13 Apr 2022</td> <th>  Prob (F-statistic):</th>   <td>  0.00</td>  \n",
       "</tr>\n",
       "<tr>\n",
       "  <th>Time:</th>                 <td>16:17:35</td>     <th>  Log-Likelihood:    </th>  <td>  9731.8</td> \n",
       "</tr>\n",
       "<tr>\n",
       "  <th>No. Observations:</th>      <td>  2768</td>      <th>  AIC:               </th> <td>-1.946e+04</td>\n",
       "</tr>\n",
       "<tr>\n",
       "  <th>Df Residuals:</th>          <td>  2764</td>      <th>  BIC:               </th> <td>-1.943e+04</td>\n",
       "</tr>\n",
       "<tr>\n",
       "  <th>Df Model:</th>              <td>     3</td>      <th>                     </th>      <td> </td>    \n",
       "</tr>\n",
       "<tr>\n",
       "  <th>Covariance Type:</th>      <td>nonrobust</td>    <th>                     </th>      <td> </td>    \n",
       "</tr>\n",
       "</table>\n",
       "<table class=\"simpletable\">\n",
       "<tr>\n",
       "     <td></td>       <th>coef</th>     <th>std err</th>      <th>t</th>      <th>P>|t|</th>  <th>[0.025</th>    <th>0.975]</th>  \n",
       "</tr>\n",
       "<tr>\n",
       "  <th>const</th>  <td>   -0.0020</td> <td>    0.000</td> <td>  -14.392</td> <td> 0.000</td> <td>   -0.002</td> <td>   -0.002</td>\n",
       "</tr>\n",
       "<tr>\n",
       "  <th>MKT-RF</th> <td>    0.0064</td> <td>    0.000</td> <td>   50.391</td> <td> 0.000</td> <td>    0.006</td> <td>    0.007</td>\n",
       "</tr>\n",
       "<tr>\n",
       "  <th>SMB</th>    <td>    0.0064</td> <td>    0.000</td> <td>   25.418</td> <td> 0.000</td> <td>    0.006</td> <td>    0.007</td>\n",
       "</tr>\n",
       "<tr>\n",
       "  <th>HML</th>    <td>    0.0039</td> <td>    0.000</td> <td>   19.092</td> <td> 0.000</td> <td>    0.003</td> <td>    0.004</td>\n",
       "</tr>\n",
       "</table>\n",
       "<table class=\"simpletable\">\n",
       "<tr>\n",
       "  <th>Omnibus:</th>       <td>821.873</td> <th>  Durbin-Watson:     </th> <td>   1.554</td> \n",
       "</tr>\n",
       "<tr>\n",
       "  <th>Prob(Omnibus):</th> <td> 0.000</td>  <th>  Jarque-Bera (JB):  </th> <td>10681.859</td>\n",
       "</tr>\n",
       "<tr>\n",
       "  <th>Skew:</th>          <td> 1.033</td>  <th>  Prob(JB):          </th> <td>    0.00</td> \n",
       "</tr>\n",
       "<tr>\n",
       "  <th>Kurtosis:</th>      <td>12.399</td>  <th>  Cond. No.          </th> <td>    2.13</td> \n",
       "</tr>\n",
       "</table><br/><br/>Notes:<br/>[1] Standard Errors assume that the covariance matrix of the errors is correctly specified."
      ],
      "text/plain": [
       "<class 'statsmodels.iolib.summary.Summary'>\n",
       "\"\"\"\n",
       "                            OLS Regression Results                            \n",
       "==============================================================================\n",
       "Dep. Variable:                      y   R-squared:                       0.645\n",
       "Model:                            OLS   Adj. R-squared:                  0.644\n",
       "Method:                 Least Squares   F-statistic:                     1673.\n",
       "Date:                Wed, 13 Apr 2022   Prob (F-statistic):               0.00\n",
       "Time:                        16:17:35   Log-Likelihood:                 9731.8\n",
       "No. Observations:                2768   AIC:                        -1.946e+04\n",
       "Df Residuals:                    2764   BIC:                        -1.943e+04\n",
       "Df Model:                           3                                         \n",
       "Covariance Type:            nonrobust                                         \n",
       "==============================================================================\n",
       "                 coef    std err          t      P>|t|      [0.025      0.975]\n",
       "------------------------------------------------------------------------------\n",
       "const         -0.0020      0.000    -14.392      0.000      -0.002      -0.002\n",
       "MKT-RF         0.0064      0.000     50.391      0.000       0.006       0.007\n",
       "SMB            0.0064      0.000     25.418      0.000       0.006       0.007\n",
       "HML            0.0039      0.000     19.092      0.000       0.003       0.004\n",
       "==============================================================================\n",
       "Omnibus:                      821.873   Durbin-Watson:                   1.554\n",
       "Prob(Omnibus):                  0.000   Jarque-Bera (JB):            10681.859\n",
       "Skew:                           1.033   Prob(JB):                         0.00\n",
       "Kurtosis:                      12.399   Cond. No.                         2.13\n",
       "==============================================================================\n",
       "\n",
       "Notes:\n",
       "[1] Standard Errors assume that the covariance matrix of the errors is correctly specified.\n",
       "\"\"\""
      ]
     },
     "execution_count": 222,
     "metadata": {},
     "output_type": "execute_result"
    }
   ],
   "source": [
    "#High ESG portfolio\n",
    "\n",
    "X = sm.add_constant(fama_french_factors[['MKT-RF',\"SMB\",\"HML\"]])\n",
    "Y = [port_ret_high_esg['Returns'][i] - rf[i] for i in range(len(port_ret_high_esg['Returns']))]\n",
    "model1 = sm.OLS(Y,X).fit()\n",
    "model1.summary()\n"
   ]
  },
  {
   "cell_type": "code",
   "execution_count": 224,
   "metadata": {},
   "outputs": [
    {
     "data": {
      "text/html": [
       "<table class=\"simpletable\">\n",
       "<caption>OLS Regression Results</caption>\n",
       "<tr>\n",
       "  <th>Dep. Variable:</th>            <td>y</td>        <th>  R-squared:         </th>  <td>   0.030</td> \n",
       "</tr>\n",
       "<tr>\n",
       "  <th>Model:</th>                   <td>OLS</td>       <th>  Adj. R-squared:    </th>  <td>   0.029</td> \n",
       "</tr>\n",
       "<tr>\n",
       "  <th>Method:</th>             <td>Least Squares</td>  <th>  F-statistic:       </th>  <td>   28.27</td> \n",
       "</tr>\n",
       "<tr>\n",
       "  <th>Date:</th>             <td>Wed, 13 Apr 2022</td> <th>  Prob (F-statistic):</th>  <td>5.28e-18</td> \n",
       "</tr>\n",
       "<tr>\n",
       "  <th>Time:</th>                 <td>16:18:24</td>     <th>  Log-Likelihood:    </th>  <td>  5420.8</td> \n",
       "</tr>\n",
       "<tr>\n",
       "  <th>No. Observations:</th>      <td>  2768</td>      <th>  AIC:               </th> <td>-1.083e+04</td>\n",
       "</tr>\n",
       "<tr>\n",
       "  <th>Df Residuals:</th>          <td>  2764</td>      <th>  BIC:               </th> <td>-1.081e+04</td>\n",
       "</tr>\n",
       "<tr>\n",
       "  <th>Df Model:</th>              <td>     3</td>      <th>                     </th>      <td> </td>    \n",
       "</tr>\n",
       "<tr>\n",
       "  <th>Covariance Type:</th>      <td>nonrobust</td>    <th>                     </th>      <td> </td>    \n",
       "</tr>\n",
       "</table>\n",
       "<table class=\"simpletable\">\n",
       "<tr>\n",
       "     <td></td>       <th>coef</th>     <th>std err</th>      <th>t</th>      <th>P>|t|</th>  <th>[0.025</th>    <th>0.975]</th>  \n",
       "</tr>\n",
       "<tr>\n",
       "  <th>const</th>  <td>   -0.0002</td> <td>    0.001</td> <td>   -0.271</td> <td> 0.786</td> <td>   -0.001</td> <td>    0.001</td>\n",
       "</tr>\n",
       "<tr>\n",
       "  <th>MKT-RF</th> <td>    0.0047</td> <td>    0.001</td> <td>    7.719</td> <td> 0.000</td> <td>    0.003</td> <td>    0.006</td>\n",
       "</tr>\n",
       "<tr>\n",
       "  <th>SMB</th>    <td>    0.0029</td> <td>    0.001</td> <td>    2.444</td> <td> 0.015</td> <td>    0.001</td> <td>    0.005</td>\n",
       "</tr>\n",
       "<tr>\n",
       "  <th>HML</th>    <td>    0.0006</td> <td>    0.001</td> <td>    0.626</td> <td> 0.531</td> <td>   -0.001</td> <td>    0.002</td>\n",
       "</tr>\n",
       "</table>\n",
       "<table class=\"simpletable\">\n",
       "<tr>\n",
       "  <th>Omnibus:</th>       <td>8400.639</td> <th>  Durbin-Watson:     </th>   <td>   2.007</td>   \n",
       "</tr>\n",
       "<tr>\n",
       "  <th>Prob(Omnibus):</th>  <td> 0.000</td>  <th>  Jarque-Bera (JB):  </th> <td>543424573.676</td>\n",
       "</tr>\n",
       "<tr>\n",
       "  <th>Skew:</th>           <td>43.927</td>  <th>  Prob(JB):          </th>   <td>    0.00</td>   \n",
       "</tr>\n",
       "<tr>\n",
       "  <th>Kurtosis:</th>      <td>2171.883</td> <th>  Cond. No.          </th>   <td>    2.13</td>   \n",
       "</tr>\n",
       "</table><br/><br/>Notes:<br/>[1] Standard Errors assume that the covariance matrix of the errors is correctly specified."
      ],
      "text/plain": [
       "<class 'statsmodels.iolib.summary.Summary'>\n",
       "\"\"\"\n",
       "                            OLS Regression Results                            \n",
       "==============================================================================\n",
       "Dep. Variable:                      y   R-squared:                       0.030\n",
       "Model:                            OLS   Adj. R-squared:                  0.029\n",
       "Method:                 Least Squares   F-statistic:                     28.27\n",
       "Date:                Wed, 13 Apr 2022   Prob (F-statistic):           5.28e-18\n",
       "Time:                        16:18:24   Log-Likelihood:                 5420.8\n",
       "No. Observations:                2768   AIC:                        -1.083e+04\n",
       "Df Residuals:                    2764   BIC:                        -1.081e+04\n",
       "Df Model:                           3                                         \n",
       "Covariance Type:            nonrobust                                         \n",
       "==============================================================================\n",
       "                 coef    std err          t      P>|t|      [0.025      0.975]\n",
       "------------------------------------------------------------------------------\n",
       "const         -0.0002      0.001     -0.271      0.786      -0.001       0.001\n",
       "MKT-RF         0.0047      0.001      7.719      0.000       0.003       0.006\n",
       "SMB            0.0029      0.001      2.444      0.015       0.001       0.005\n",
       "HML            0.0006      0.001      0.626      0.531      -0.001       0.002\n",
       "==============================================================================\n",
       "Omnibus:                     8400.639   Durbin-Watson:                   2.007\n",
       "Prob(Omnibus):                  0.000   Jarque-Bera (JB):        543424573.676\n",
       "Skew:                          43.927   Prob(JB):                         0.00\n",
       "Kurtosis:                    2171.883   Cond. No.                         2.13\n",
       "==============================================================================\n",
       "\n",
       "Notes:\n",
       "[1] Standard Errors assume that the covariance matrix of the errors is correctly specified.\n",
       "\"\"\""
      ]
     },
     "execution_count": 224,
     "metadata": {},
     "output_type": "execute_result"
    }
   ],
   "source": [
    "#Low ESG portfolio\n",
    "Y = [port_ret_low_esg['Returns'][i] - rf[i] for i in range(len(port_ret_low_esg['Returns']))]\n",
    "model2 = sm.OLS(Y,X).fit()\n",
    "model2.summary()"
   ]
  },
  {
   "cell_type": "code",
   "execution_count": 225,
   "metadata": {},
   "outputs": [
    {
     "data": {
      "image/png": "[encoded data removed]",
      "text/plain": [
       "<Figure size 432x288 with 1 Axes>"
      ]
     },
     "metadata": {
      "needs_background": "light"
     },
     "output_type": "display_data"
    },
    {
     "name": "stdout",
     "output_type": "stream",
     "text": [
      "             Returns  Cum_Rets\n",
      "Date                          \n",
      "2010-01-05  0.010504  1.010504\n",
      "2010-01-06  0.016598  1.016598\n",
      "2010-01-07  0.002472  1.002472\n",
      "2010-01-08 -0.006023  0.993977\n",
      "2010-01-11  0.022736  1.022736\n",
      "...              ...       ...\n",
      "2020-12-24 -0.001121  0.998879\n",
      "2020-12-28 -0.002056  0.997944\n",
      "2020-12-29 -0.017471  0.982529\n",
      "2020-12-30 -0.004090  0.995910\n",
      "2020-12-31  0.000062  1.000062\n",
      "\n",
      "[2768 rows x 2 columns]\n"
     ]
    }
   ],
   "source": [
    "port_ret_high_esg[\"Cum_Rets\"] = port_ret_high_esg[\"Returns\"]+1\n",
    "port_ret_low_esg[\"Cum_Rets\"] = port_ret_low_esg[\"Returns\"]+1\n",
    "cum_rets_high_esg = port_ret_high_esg[\"Cum_Rets\"].cumprod()\n",
    "cum_rets_low_esg = port_ret_low_esg[\"Cum_Rets\"].cumprod()\n",
    "\n",
    "# plt.plot(cum_rets_high_esg)\n",
    "# plt.plot(cum_rets_low_esg)\n",
    "plt.plot(port_ret_low_esg['Returns'])\n",
    "plt.show()\n",
    "min(port_ret_low_esg['Returns'])\n",
    "print(port_ret_low_esg)"
   ]
  }
 ],
 "metadata": {
  "interpreter": {
   "hash": "08abd7b7c8d0be127d4e4a7867fced7f62c6dcfa7739a0184e3b4f48aa7caea7"
  },
  "kernelspec": {
   "display_name": "Python 3.9.10 64-bit (windows store)",
   "language": "python",
   "name": "python3"
  },
  "language_info": {
   "codemirror_mode": {
    "name": "ipython",
    "version": 3
   },
   "file_extension": ".py",
   "mimetype": "text/x-python",
   "name": "python",
   "nbconvert_exporter": "python",
   "pygments_lexer": "ipython3",
   "version": "3.9.12"
  },
  "orig_nbformat": 4
 },
 "nbformat": 4,
 "nbformat_minor": 2
}
